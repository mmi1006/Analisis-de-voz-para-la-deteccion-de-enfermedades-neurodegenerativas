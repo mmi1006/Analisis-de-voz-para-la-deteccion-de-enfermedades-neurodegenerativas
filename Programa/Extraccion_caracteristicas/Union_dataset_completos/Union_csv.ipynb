{
 "cells": [
  {
   "cell_type": "markdown",
   "id": "34c81148",
   "metadata": {},
   "source": [
    "# Función para unir los datos\n",
    "\n",
    "Este notebook tiene como objetivo principal hacer la unión de los datos extraidos de los audios con los datos relevantes de los pacientes, obtenidos en el registro de cada uno.\n",
    "\n",
    "Autor: Maider Murugarren Ilundain"
   ]
  },
  {
   "cell_type": "code",
   "execution_count": 4,
   "id": "35a9cf40",
   "metadata": {},
   "outputs": [],
   "source": [
    "# Importamos las librerias necesarias\n",
    "import pandas as pd"
   ]
  },
  {
   "cell_type": "code",
   "execution_count": 1,
   "id": "11dd73f1",
   "metadata": {},
   "outputs": [],
   "source": [
    "# Función de unión\n",
    "def unir_csv(datos_general, *datos_tipos):\n",
    "    \"\"\"\n",
    "    Unión de las características esxtraidas de los audios con los datos relevantes\n",
    "    del regristro de los pacientes.\n",
    "\n",
    "    Parámetros:\n",
    "    - datos_general: conjunto de datos del registro.\n",
    "    - datos_tipos: los distintos conjuntos de características extraidas de cada tipo de audio.\n",
    "    \"\"\"\n",
    "    # Leer el archivo con los datos clinicos los generales\n",
    "    general = pd.read_csv(datos_general, sep=';', encoding='ISO-8859-1')\n",
    "\n",
    "    for tipo in datos_tipos:\n",
    "        # Leer el que contiene las caracteristicas\n",
    "        tipos = pd.read_csv(tipo, sep=';')\n",
    "\n",
    "        tipo_nombre = tipo.split('.')[0]\n",
    "\n",
    "        # Unir mediante join con laa columna ID\n",
    "        resultado = general.join(tipos.set_index('ID'), on='ID')\n",
    "\n",
    "        # Guardar, nuevo csv\n",
    "        resultado.to_csv(f'unificacion_{tipo_nombre}.csv', index=False, sep=';')\n",
    "\n",
    "    print(\"Unión de CSV realizada.\")"
   ]
  },
  {
   "cell_type": "code",
   "execution_count": 29,
   "id": "e0de187b",
   "metadata": {},
   "outputs": [
    {
     "name": "stdout",
     "output_type": "stream",
     "text": [
      "Unificación de CSV completada.\n"
     ]
    }
   ],
   "source": [
    "# Unión de datos de caracteríticas Spicy\n",
    "unir_csv('Datos_Parkinson.csv', 'caracteristicas_audios_Scipy_1.csv', 'caracteristicas_audios_Scipy_2.csv', 'caracteristicas_audios_Scipy_3.csv', 'caracteristicas_audios_Scipy_4.csv', 'caracteristicas_audios_Scipy_5.csv', 'caracteristicas_audios_Scipy_6.csv')"
   ]
  },
  {
   "cell_type": "code",
   "execution_count": 5,
   "id": "3656b586",
   "metadata": {},
   "outputs": [
    {
     "name": "stdout",
     "output_type": "stream",
     "text": [
      "Unificación de CSV completada.\n"
     ]
    }
   ],
   "source": [
    "# Unión de datos de caracteríticas Spicy con estadios\n",
    "unir_csv('Datos_Parkinson_Estadios.csv', 'caracteristicas_audios_Scipy_1.csv', 'caracteristicas_audios_Scipy_2.csv', 'caracteristicas_audios_Scipy_3.csv', 'caracteristicas_audios_Scipy_4.csv', 'caracteristicas_audios_Scipy_5.csv', 'caracteristicas_audios_Scipy_6.csv')"
   ]
  },
  {
   "cell_type": "code",
   "execution_count": 6,
   "id": "a5ce99df",
   "metadata": {},
   "outputs": [
    {
     "name": "stdout",
     "output_type": "stream",
     "text": [
      "Unión de CSV completada.\n"
     ]
    }
   ],
   "source": [
    "# Unión de datos de caracteríticas Pythorch\n",
    "unir_csv('Datos_Parkinson.csv', 'caracteristicas_audios_Vgg-pythorch_1.csv', 'caracteristicas_audios_Vgg-pythorch_2.csv', 'caracteristicas_audios_Vgg-pythorch_3.csv', 'caracteristicas_audios_Vgg-pythorch_4.csv', 'caracteristicas_audios_Vgg-pythorch_5.csv', 'caracteristicas_audios_Vgg-pythorch_6.csv')"
   ]
  },
  {
   "cell_type": "code",
   "execution_count": 7,
   "id": "01a41be0",
   "metadata": {},
   "outputs": [
    {
     "name": "stdout",
     "output_type": "stream",
     "text": [
      "Unión de CSV completada.\n"
     ]
    }
   ],
   "source": [
    "# Unión de datos de caracteríticas Pythorch con estadios\n",
    "unir_csv('Datos_Parkinson_Estadios.csv', 'caracteristicas_audios_Vgg-pythorch_1.csv', 'caracteristicas_audios_Vgg-pythorch_2.csv', 'caracteristicas_audios_Vgg-pythorch_3.csv', 'caracteristicas_audios_Vgg-pythorch_4.csv', 'caracteristicas_audios_Vgg-pythorch_5.csv', 'caracteristicas_audios_Vgg-pythorch_6.csv')"
   ]
  }
 ],
 "metadata": {
  "kernelspec": {
   "display_name": "Python 3 (ipykernel)",
   "language": "python",
   "name": "python3"
  },
  "language_info": {
   "codemirror_mode": {
    "name": "ipython",
    "version": 3
   },
   "file_extension": ".py",
   "mimetype": "text/x-python",
   "name": "python",
   "nbconvert_exporter": "python",
   "pygments_lexer": "ipython3",
   "version": "3.9.13"
  }
 },
 "nbformat": 4,
 "nbformat_minor": 5
}
