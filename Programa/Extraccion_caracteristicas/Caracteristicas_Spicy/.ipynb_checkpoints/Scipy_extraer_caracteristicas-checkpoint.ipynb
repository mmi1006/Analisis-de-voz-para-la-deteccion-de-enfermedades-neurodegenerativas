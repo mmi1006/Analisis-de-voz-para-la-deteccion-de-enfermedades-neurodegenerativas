{
 "cells": [
  {
   "cell_type": "markdown",
   "id": "7d7d5626",
   "metadata": {},
   "source": [
    "# Extaer características audios libreria SCIPY\n",
    "\n",
    "SciPy es un paquete científico que nos permite hacer uso de funciones que usaremos en este caso para extraer las siguientes características de los audios:\n",
    "\n",
    "- 1º y 2º derivada de la frecuencia fundamental.\n",
    "- Jitter\n",
    "- Shimmer\n",
    "- APQ \n",
    "- PPQ\n",
    "- Energía logaritmica\n",
    "- Amplitud media del audio\n",
    "- Duración del audio\n",
    "\n",
    "Autor: Maider Murugarren Ilundain"
   ]
  },
  {
   "cell_type": "markdown",
   "id": "24f00779",
   "metadata": {},
   "source": [
    "Antes de empezar se instalará la librería"
   ]
  },
  {
   "cell_type": "code",
   "execution_count": 3,
   "id": "605c1b06",
   "metadata": {
    "scrolled": true
   },
   "outputs": [],
   "source": [
    "#!pip install scipy"
   ]
  },
  {
   "cell_type": "code",
   "execution_count": 1,
   "id": "7768fc49",
   "metadata": {},
   "outputs": [],
   "source": [
    "# Importamos los paquetes necesarios para la ejecución completa.\n",
    "import os\n",
    "import numpy as np\n",
    "import pandas as pd\n",
    "import csv\n",
    "from scipy.io import wavfile\n",
    "from scipy.stats import skew, kurtosis\n",
    "from scipy.signal import butter, lfilter, freqz"
   ]
  },
  {
   "cell_type": "code",
   "execution_count": 10,
   "id": "f89241e1",
   "metadata": {},
   "outputs": [],
   "source": [
    "def extraer_caracteristicas_Spicy(ruta, nombre_csv):\n",
    "    '''\n",
    "    El código consistira en un bucle for que irá recorriendo todos los audios disponibles para extraer \n",
    "    de cada uno las características de nuestro interes, almacenarlas en un diccionario. Y finalmente \n",
    "    generar un archivo \".csv\" donde se almacenarán las características de cada audio de forma ordenada.\n",
    "    \n",
    "    Parámetros:\n",
    "    - ruta: directorio de la localización de los audios a analizar.\n",
    "    - nombre_csv: nombre con el que se almacenarán los datos en el csv.\n",
    "    \n",
    "    '''\n",
    "    \n",
    "    archivos_audio = os.listdir(ruta)\n",
    "    \n",
    "    # Diccionario para meter als características\n",
    "    caract_dict = {}\n",
    "    \n",
    "    for archivo in archivos_audio:\n",
    "        \n",
    "        # Obtener el ID y el tipo del archivo\n",
    "        tipo = archivo[-5]\n",
    "        ID = archivo[:5]\n",
    "        \n",
    "        ID_array = np.array([ID])\n",
    "        tipo_array = np.array([tipo])\n",
    "\n",
    "        # Cargar el archivo\n",
    "        fs, audio = wavfile.read(os.path.join(ruta, archivo))\n",
    "        \n",
    "        # Extraer la duración \n",
    "        duracion = len(audio) / fs\n",
    "        umbral_duracion = 1.0  \n",
    "        \n",
    "        # Umbral de duración en segundos, para asignar un valor nulo a lso audios vacios\n",
    "        if duracion < umbral_duracion:\n",
    "            caract_dict[archivo] = [None] * 9\n",
    "            continue\n",
    "        \n",
    "        # Extraer la 1ª y 2ª derivada fundamental\n",
    "        ff1 = np.gradient(audio)\n",
    "        ff2 = np.gradient(ff1)\n",
    "        \n",
    "        # Extraer jitter\n",
    "        jitter = np.mean(np.abs(np.diff(audio))) / np.mean(audio)\n",
    "        \n",
    "        # Extraer shimmer\n",
    "        shimmer = np.mean(np.abs(np.diff(ff1))) / np.mean(np.abs(ff1))\n",
    "        \n",
    "        \n",
    "        # Extraer APQ y PPQ\n",
    "        apq = np.sum(np.square(np.abs(ff1))) / len(ff1)\n",
    "        ppq = np.sum(np.square(np.abs(ff2))) / len(ff2)\n",
    "        \n",
    "        # Extraer la amplitud media del audio\n",
    "        ama_mean = np.mean(np.abs(audio))\n",
    "        \n",
    "        # Extraer log-energy\n",
    "        energy = np.sum(np.square(audio))\n",
    "        log_energy = np.log(energy)\n",
    "        \n",
    "        # Almacenar las características en el diccionario\n",
    "        caract_dict[archivo] = np.concatenate((ID_array, tipo_array, np.mean(ff1).reshape(-1,1)[0],\n",
    "                                               np.mean(ff2).reshape(-1,1)[0], \n",
    "                                               jitter.reshape(-1,1)[0], \n",
    "                                               shimmer.reshape(-1,1)[0], \n",
    "                                               log_energy.reshape(-1,1)[0], \n",
    "                                               apq.reshape(-1,1)[0], \n",
    "                                               ppq.reshape(-1,1)[0], \n",
    "                                               ama_mean.reshape(-1,1)[0], \n",
    "                                               np.array([duracion]).reshape(-1,1)[0]), axis=0)\n",
    "    \n",
    "    \n",
    "    carpeta_csv = \"caracteríticas_Spicy\"\n",
    "    \n",
    "    # Escribir el contenido del diccionario en un archivo CSV\n",
    "    with open(carpeta_csv+\"/\"+nombre_csv, 'w', newline='') as archivo_csv:\n",
    "        writer = csv.writer(archivo_csv, delimiter=';')\n",
    "        \n",
    "        # Determinar los valores de als columans\n",
    "        writer.writerow(['archivo', 'ID','tipo', 'ff1', 'ff2', 'jitter', 'shimmer', 'log_energy', 'apq', 'ppq', 'Amplitud media', 'duracion'])\n",
    "        \n",
    "        # Introducir los valroes del directorio en el csv\n",
    "        for archivo, caracteristicas in caract_dict.items():\n",
    "            writer.writerow([archivo] + list(caracteristicas))\n"
   ]
  },
  {
   "cell_type": "code",
   "execution_count": 11,
   "id": "2297616c",
   "metadata": {},
   "outputs": [],
   "source": [
    "# Función para llamar a cada subconjunto de datos de forma automática\n",
    "def carac_spicy(tipo):\n",
    "    \"\"\"\n",
    "    Llamar a cada directorio para acceder a todos los audios, creando a la vez el nombre de los csv donde \n",
    "    se almacenan las características extraidas en cada caso..\n",
    "\n",
    "    Parámetros:\n",
    "    - tipo: El número para acceder a todos los tipos de audios.\n",
    "\n",
    "    Retorna:\n",
    "    - La extracción de las características por la función anterior.\n",
    "    \"\"\"\n",
    "    \n",
    "    # Indicamos la carpeta base donde están todos los audios.\n",
    "    carpeta_base = \"Tipos_audios\"\n",
    "    # Completamos las posibles rutas con el tipo de audios.\n",
    "    if (tipo == '1'):\n",
    "        carpeta_tipo = carpeta_base+\"/vocal_A_1/\"\n",
    "    elif (tipo == '2'):\n",
    "        carpeta_tipo = carpeta_base+\"/vocal_I_2/\"\n",
    "    elif (tipo == '3'):\n",
    "        carpeta_tipo = carpeta_base+\"/vocal_U_3/\"\n",
    "    elif (tipo == '4'):\n",
    "        carpeta_tipo = carpeta_base+\"/palabra_campana_4/\"\n",
    "    elif (tipo == '5'):\n",
    "        carpeta_tipo = carpeta_base+\"/palabra_gato_5/\"\n",
    "    elif (tipo == '6'):\n",
    "        carpeta_tipo = carpeta_base+\"/palabra_petaca_6/\"\n",
    "    \n",
    "    # Se crea el nombre del csv a almacenar\n",
    "    nombre_csv = \"caracteristicas_audios_Scipy_\"+tipo+\".csv\"\n",
    "    \n",
    "    return extraer_caracteristicas_Spicy(carpeta_tipo, nombre_csv)"
   ]
  },
  {
   "cell_type": "code",
   "execution_count": 13,
   "id": "1423dec1",
   "metadata": {},
   "outputs": [
    {
     "name": "stderr",
     "output_type": "stream",
     "text": [
      "C:\\Users\\Usuario\\AppData\\Local\\Temp\\ipykernel_13412\\4139882959.py:44: RuntimeWarning: invalid value encountered in log\n",
      "  log_energy = np.log(energy)\n"
     ]
    }
   ],
   "source": [
    "# Llamamos a todas las carpetas de los audios\n",
    "carac_spicy('1')\n",
    "carac_spicy('2')\n",
    "carac_spicy('3')\n",
    "carac_spicy('4')\n",
    "carac_spicy('5')\n",
    "carac_spicy('6')"
   ]
  },
  {
   "cell_type": "code",
   "execution_count": null,
   "id": "9804813b",
   "metadata": {},
   "outputs": [],
   "source": []
  }
 ],
 "metadata": {
  "kernelspec": {
   "display_name": "Python 3 (ipykernel)",
   "language": "python",
   "name": "python3"
  },
  "language_info": {
   "codemirror_mode": {
    "name": "ipython",
    "version": 3
   },
   "file_extension": ".py",
   "mimetype": "text/x-python",
   "name": "python",
   "nbconvert_exporter": "python",
   "pygments_lexer": "ipython3",
   "version": "3.9.13"
  }
 },
 "nbformat": 4,
 "nbformat_minor": 5
}
