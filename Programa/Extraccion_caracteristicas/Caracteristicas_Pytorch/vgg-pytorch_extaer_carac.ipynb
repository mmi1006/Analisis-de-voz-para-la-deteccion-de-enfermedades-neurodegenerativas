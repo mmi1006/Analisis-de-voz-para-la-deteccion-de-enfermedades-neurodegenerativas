{
 "cells": [
  {
   "cell_type": "markdown",
   "id": "fb2b34f4",
   "metadata": {},
   "source": [
    "# Extaer características audios libreria TORCH\n",
    "\n",
    "Torch es una biblioteca que nos permite hacer uso de funciones que usaremos en este caso para extraer las siguientes características de los audios:\n",
    "\n",
    "- Espectrograma del audio\n",
    "- Amplitud en decibelios\n",
    "- Nivel de volumen del audio\n",
    "- MFCC\n",
    "- PSD\n",
    "- Centroide espectral del audio\n",
    "\n",
    "Autor: Maider Murugarren Ilundain"
   ]
  },
  {
   "cell_type": "markdown",
   "id": "19eeebdf",
   "metadata": {},
   "source": [
    "Antes de empezar se instalan las librerias necesarias en este caso."
   ]
  },
  {
   "cell_type": "code",
   "execution_count": 1,
   "id": "c2a2f47c",
   "metadata": {
    "scrolled": true
   },
   "outputs": [],
   "source": [
    "#! pip install vgg-pytorch\n",
    "#! pip install torchaudio\n",
    "#! pip install torchvision"
   ]
  },
  {
   "cell_type": "code",
   "execution_count": 16,
   "id": "2b050513",
   "metadata": {},
   "outputs": [],
   "source": [
    "# Importamos los paquetes necesarios para la ejecución completa.\n",
    "import csv\n",
    "import os\n",
    "import torch\n",
    "import torchaudio\n",
    "import numpy as np\n",
    "import pandas as pd\n",
    "\n",
    "def extraer_caracteristicas_PyThorch(ruta, nombre_csv):\n",
    "    '''\n",
    "    El código consistira en un bucle for que irá recorriendo todos los audios disponibles para extraer \n",
    "    de cada uno las características de nuestro interes, almacenarlas en un diccionario. Y finalmente \n",
    "    generar un archivo \".csv\" donde se almacenarán las características de cada audio de forma ordenada.\n",
    "    \n",
    "    Parámetros:\n",
    "    - ruta: directorio de la localización de los audios a analizar.\n",
    "    - nombre_csv: nombre con el que se almacenarán los datos en el csv.\n",
    "    \n",
    "    '''\n",
    "    # Ruta de la carpeta que contiene los archivos de audio\n",
    "    archivos_audio = os.listdir(ruta)\n",
    "\n",
    "    # Crear un diccionario para almacenar las características de los archivos de audio\n",
    "    caract_dict = {}\n",
    "\n",
    "    # Recorrer cada archivo en la carpeta\n",
    "    for archivo in archivos_audio:\n",
    "\n",
    "        # Obtener el ID y el tipo del archivo\n",
    "        tipo = archivo[-5]\n",
    "        ID = archivo[:5]\n",
    "\n",
    "        # Convertimos en arrays de dimensiones 1\n",
    "        ID_array = np.array([ID])\n",
    "        tipo_array = np.array([tipo])\n",
    "\n",
    "        # Cargar el archivo \n",
    "        file_path = os.path.join(ruta, archivo)\n",
    "        waveform, sample_rate = torchaudio.load(file_path)\n",
    "        \n",
    "        try:\n",
    "            # Transformaciones a forma de onda\n",
    "            spectrogram = torchaudio.transforms.Spectrogram()(waveform)\n",
    "            amplitude_to_db = torchaudio.transforms.AmplitudeToDB()(spectrogram)\n",
    "            loudness = torchaudio.transforms.Loudness(sample_rate=sample_rate)(waveform)\n",
    "            mfcc = torchaudio.transforms.MFCC(sample_rate=sample_rate)(waveform)\n",
    "            psd = torchaudio.transforms.Spectrogram(n_fft=2048)(waveform)\n",
    "            spectral_centroid = torchaudio.transforms.SpectralCentroid(sample_rate=sample_rate)(waveform)\n",
    "\n",
    "            # Calcular la media \n",
    "            amplitude_to_db_mean = torch.mean(amplitude_to_db)\n",
    "            loudness_mean = torch.mean(loudness, axis=0)\n",
    "            mfcc_mean = torch.mean(mfcc)\n",
    "            psd_mean = torch.mean(psd)\n",
    "            spectral_centroid_mean = torch.mean(spectral_centroid)\n",
    "            spectrogram_mean = torch.mean(spectrogram)\n",
    "\n",
    "            # Agregar las características al diccionario \n",
    "            caract_dict[archivo] = np.concatenate((ID_array, tipo_array, amplitude_to_db_mean.reshape(-1,1)[0], \n",
    "                                                    loudness_mean.reshape(-1,1)[0], \n",
    "                                                    mfcc_mean.reshape(-1,1)[0], \n",
    "                                                    psd_mean.reshape(-1,1)[0], \n",
    "                                                    spectral_centroid_mean.reshape(-1,1)[0], \n",
    "                                                    spectrogram_mean.reshape(-1,1)[0]), axis=0)\n",
    "            \n",
    "        except RuntimeError as e:\n",
    "            print(f\"Error al procesar el archivo {archivo}: {str(e)}\")\n",
    "\n",
    "    # Escribir el contenido del diccionario en un archivo CSV\n",
    "    with open(nombre_csv, 'w', newline='') as archivo_csv:\n",
    "        writer = csv.writer(archivo_csv, delimiter=';')\n",
    "\n",
    "        # Escribir los nombres de las características en la primera fila del CSV\n",
    "        writer.writerow(['archivo', 'ID', 'tipo', 'amplitude_to_db', 'loudness', 'mfcc', 'psd', 'spectral_centroid', 'spectrogram'])\n",
    "\n",
    "        # Escribir las características en cada línea del CSV\n",
    "        for archivo, caracteristicas in caract_dict.items():\n",
    "            writer.writerow([archivo] + list(caracteristicas))\n"
   ]
  },
  {
   "cell_type": "markdown",
   "id": "c7821159",
   "metadata": {},
   "source": [
    "Llamaremos a la función en la carpeta donde se alojan cada tipo de audios y se guardarán en el mismo los csv correspondientes."
   ]
  },
  {
   "cell_type": "code",
   "execution_count": null,
   "id": "49c2bf7d",
   "metadata": {},
   "outputs": [],
   "source": [
    "# Función para llamar a cada subconjunto de datos de forma automática\n",
    "def carac_torch(tipo):\n",
    "    \"\"\"\n",
    "    Llamar a cada directorio para acceder a todos los audios, creando a la vez el nombre de los csv donde \n",
    "    se almacenan las características extraidas en cada caso..\n",
    "\n",
    "    Parámetros:\n",
    "    - tipo: El número para acceder a todos los tipos de audios.\n",
    "\n",
    "    Retorna:\n",
    "    - La extracción de las características por la función anterior.\n",
    "    \"\"\"\n",
    "    \n",
    "    # Indicamos la carpeta base donde están todos los audios.\n",
    "    carpeta_base = \"Tipos_audios\"\n",
    "    # Completamos las posibles rutas con el tipo de audios.\n",
    "    if (tipo == '1'):\n",
    "        carpeta_tipo = carpeta_base+\"/vocal_A_1/\"\n",
    "    elif (tipo == '2'):\n",
    "        carpeta_tipo = carpeta_base+\"/vocal_I_2/\"\n",
    "    elif (tipo == '3'):\n",
    "        carpeta_tipo = carpeta_base+\"/vocal_U_3/\"\n",
    "    elif (tipo == '4'):\n",
    "        carpeta_tipo = carpeta_base+\"/palabra_campana_4/\"\n",
    "    elif (tipo == '5'):\n",
    "        carpeta_tipo = carpeta_base+\"/palabra_gato_5/\"\n",
    "    elif (tipo == '6'):\n",
    "        carpeta_tipo = carpeta_base+\"/palabra_petaca_6/\"\n",
    "    \n",
    "    # Se crea el nombre del csv a almacenar\n",
    "    nombre_csv = \"caracteristicas_audios_Vgg-pythorch_\"+tipo+\".csv\"\n",
    "    \n",
    "    return extraer_caracteristicas_Spicy(carpeta_tipo, nombre_csv)"
   ]
  },
  {
   "cell_type": "code",
   "execution_count": null,
   "id": "f78df885",
   "metadata": {},
   "outputs": [],
   "source": [
    "# Llamamos a todas las carpetas de los audios\n",
    "carac_torch('1')\n",
    "carac_torch('2')\n",
    "carac_torch('3')\n",
    "carac_torch('4')\n",
    "carac_torch('5')\n",
    "carac_torch('6')"
   ]
  }
 ],
 "metadata": {
  "kernelspec": {
   "display_name": "Python 3 (ipykernel)",
   "language": "python",
   "name": "python3"
  },
  "language_info": {
   "codemirror_mode": {
    "name": "ipython",
    "version": 3
   },
   "file_extension": ".py",
   "mimetype": "text/x-python",
   "name": "python",
   "nbconvert_exporter": "python",
   "pygments_lexer": "ipython3",
   "version": "3.9.13"
  }
 },
 "nbformat": 4,
 "nbformat_minor": 5
}
