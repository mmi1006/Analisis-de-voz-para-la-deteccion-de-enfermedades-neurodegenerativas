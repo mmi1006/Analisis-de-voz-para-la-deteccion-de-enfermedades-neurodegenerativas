{
 "cells": [
  {
   "cell_type": "markdown",
   "id": "c3d10b84",
   "metadata": {},
   "source": [
    "# Realmacenar audios\n",
    "\n",
    "En este notebook usará, para después de haber preprocesado los audios, redistribuilos en base al contenido de cada uno en cada carpeta correspondiente. De manera que podamos obtener las características extraidas de cada tipo de audios.\n",
    "    \n",
    "Autor: Maider Murugarren Ilundain"
   ]
  },
  {
   "cell_type": "code",
   "execution_count": 1,
   "id": "d23274cf",
   "metadata": {},
   "outputs": [],
   "source": [
    "# Importamos las librerias\n",
    "import os\n",
    "import shutil"
   ]
  },
  {
   "cell_type": "code",
   "execution_count": 2,
   "id": "feca3417",
   "metadata": {},
   "outputs": [],
   "source": [
    "# Determinamos donde estan todos los audios origen\n",
    "carpeta = \"Audios_preprocesados/\"\n",
    "\n",
    "# Las carpetas destino\n",
    "carpeta_des1 = \"Tipos_audios/vocal_A_1/\"\n",
    "carpeta_des2 = \"Tipos_audios/vocal_I_2/\"\n",
    "carpeta_des3 = \"Tipos_audios/vocal_U_3/\"\n",
    "carpeta_des4 = \"Tipos_audios/palabra_campana_4/\"\n",
    "carpeta_des5 = \"Tipos_audios/palabra_gato_5/\"\n",
    "carpeta_des6 = \"Tipos_audios/palabra_petaca_6/\"\n",
    "\n",
    "# Recorremos la carpeta origen\n",
    "for archivo in os.listdir(carpeta):\n",
    "    #Obtener el último valor del nombre indicando el tipo\n",
    "    ultimo_valor = archivo.split(\"_\")[-1][:-4]\n",
    "    \n",
    "    # Según al tipo de audio que pertenezcan se va a un destino u otro\n",
    "    if ultimo_valor == \"1\":\n",
    "        carpeta_destino = carpeta_des1\n",
    "    elif ultimo_valor == \"2\":\n",
    "        carpeta_destino = carpeta_des2\n",
    "    elif ultimo_valor == \"3\":\n",
    "        carpeta_destino = carpeta_des3\n",
    "    elif ultimo_valor == \"4\":\n",
    "        carpeta_destino = carpeta_des4\n",
    "    elif ultimo_valor == \"5\":\n",
    "        carpeta_destino = carpeta_des5\n",
    "    else:\n",
    "        carpeta_destino = carpeta_des6\n",
    "    \n",
    "    # Copiar el archivo a la carpeta nueva\n",
    "    shutil.copy(os.path.join(carpeta, archivo), os.path.join(carpeta_destino, archivo))\n",
    "    "
   ]
  }
 ],
 "metadata": {
  "kernelspec": {
   "display_name": "Python 3 (ipykernel)",
   "language": "python",
   "name": "python3"
  },
  "language_info": {
   "codemirror_mode": {
    "name": "ipython",
    "version": 3
   },
   "file_extension": ".py",
   "mimetype": "text/x-python",
   "name": "python",
   "nbconvert_exporter": "python",
   "pygments_lexer": "ipython3",
   "version": "3.9.13"
  }
 },
 "nbformat": 4,
 "nbformat_minor": 5
}
