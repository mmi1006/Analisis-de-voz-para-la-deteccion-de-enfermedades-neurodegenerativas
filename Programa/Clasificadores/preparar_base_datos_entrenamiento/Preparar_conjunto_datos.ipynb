{
 "cells": [
  {
   "cell_type": "markdown",
   "id": "f219536c",
   "metadata": {},
   "source": [
    "# Preparación del conjunto de datos a utilizar\n",
    "Para poder evaluar después y hacer pruebas con los audios, borraremos los datos de 6 pacientes en especifico, tres de los cuales padecen la enfermedad de Parkinson y otros tres que no.\n",
    "De esta manera, entrenaremos los modelos con la mayoria de la base de audios y haremos pruebas con seis casos de diferentes características.\n",
    "\n",
    "Para ello, haremos una sola función que borre los datos de los pacientes identificados con la nomenclatura indicada.\n",
    "\n",
    "Autor: Maider Murugarren Ilundain"
   ]
  },
  {
   "cell_type": "code",
   "execution_count": 1,
   "id": "4b6cfa73",
   "metadata": {},
   "outputs": [],
   "source": [
    "# Importamos la librerias necesarias\n",
    "import os\n",
    "import pandas as pd\n",
    "\n",
    "# Función para borrar los datos de prueba\n",
    "def borrar_filas_por_id(carpeta, id_columna, ids_a_borrar):\n",
    "    \"\"\"\n",
    "    Calcula el cuadrado de un número dado.\n",
    "\n",
    "    Parámetros:\n",
    "    - carpeta: directorio donde se encuentran los archivos con todos los datos.\n",
    "    - id_columna: columna con la que identificaremos los casos.\n",
    "    - ids_a_borrar: lista de los IDs de los pacientes a borrar de los datos generales.\n",
    "\n",
    "    Retorna:\n",
    "    - El cuadrado del número.\n",
    "    \"\"\"\n",
    "    # Extraer la lista de archivos CSV en la carpeta\n",
    "    archivos_csv = [archivo for archivo in os.listdir(carpeta) if archivo.endswith('.csv')]\n",
    "\n",
    "    # Iterar sobre cada archivo CSV\n",
    "    for archivo in archivos_csv:\n",
    "        ruta_csv = os.path.join(carpeta, archivo)\n",
    "\n",
    "        # Cargar el archivo CSV en un DataFrame\n",
    "        df = pd.read_csv(ruta_csv, delimiter=';')\n",
    "\n",
    "        # Verificar si la columna de ID existe en el DataFrame\n",
    "        if id_columna not in df.columns:\n",
    "            print(f\"La columna {id_columna} no existe en el archivo {archivo}.\")\n",
    "            continue\n",
    "\n",
    "        # Filtrar las filas que coinciden con los IDs a borrar\n",
    "        filas_a_borrar = df[df[id_columna].isin(ids_a_borrar)].index\n",
    "\n",
    "        # Borrar las filas del DataFrame\n",
    "        df.drop(filas_a_borrar, inplace=True)\n",
    "\n",
    "        # Guardar el DataFrame modificado en el mismo archivo CSV\n",
    "        df.to_csv(ruta_csv, index=False, sep=';')\n",
    "\n",
    "        print(f\"Se han borrado {len(filas_a_borrar)} filas del archivo {archivo}.\")\n"
   ]
  },
  {
   "cell_type": "code",
   "execution_count": 2,
   "id": "247373db",
   "metadata": {},
   "outputs": [
    {
     "name": "stdout",
     "output_type": "stream",
     "text": [
      "Se han borrado 6 filas del archivo unificacion_caracteristicas_audios_Scipy_1.csv.\n",
      "Se han borrado 6 filas del archivo unificacion_caracteristicas_audios_Scipy_2.csv.\n",
      "Se han borrado 6 filas del archivo unificacion_caracteristicas_audios_Scipy_3.csv.\n",
      "Se han borrado 6 filas del archivo unificacion_caracteristicas_audios_Scipy_4.csv.\n",
      "Se han borrado 6 filas del archivo unificacion_caracteristicas_audios_Scipy_5.csv.\n",
      "Se han borrado 6 filas del archivo unificacion_caracteristicas_audios_Scipy_6.csv.\n"
     ]
    }
   ],
   "source": [
    "# Eliminar de los csv con las caracteristicas Spicy\n",
    "carpeta_csv = 'union_carac_Spicy/'\n",
    "columna_id = 'ID'\n",
    "ids_a_borrar = ['ID107', 'ID111', 'ID123', 'ID152', 'ID160', 'ID174']  # IDs de las filas a borrar\n",
    "\n",
    "borrar_filas_por_id(carpeta_csv, columna_id, ids_a_borrar)"
   ]
  },
  {
   "cell_type": "code",
   "execution_count": 3,
   "id": "f94f1529",
   "metadata": {},
   "outputs": [
    {
     "name": "stdout",
     "output_type": "stream",
     "text": [
      "Se han borrado 6 filas del archivo unificacion_caracteristicas_audios_Vgg-pythorch_1.csv.\n",
      "Se han borrado 6 filas del archivo unificacion_caracteristicas_audios_Vgg-pythorch_2.csv.\n",
      "Se han borrado 6 filas del archivo unificacion_caracteristicas_audios_Vgg-pythorch_3.csv.\n",
      "Se han borrado 6 filas del archivo unificacion_caracteristicas_audios_Vgg-pythorch_4.csv.\n",
      "Se han borrado 6 filas del archivo unificacion_caracteristicas_audios_Vgg-pythorch_5.csv.\n",
      "Se han borrado 6 filas del archivo unificacion_caracteristicas_audios_Vgg-pythorch_6.csv.\n"
     ]
    }
   ],
   "source": [
    "# Eliminar de los csv con las caracteristicas Pythorch\n",
    "carpeta_csv = 'unio_carac_Pythorch/'\n",
    "columna_id = 'ID'\n",
    "ids_a_borrar = ['ID107', 'ID111', 'ID123', 'ID152', 'ID160', 'ID174']  # IDs de las filas a borrar\n",
    "\n",
    "borrar_filas_por_id(carpeta_csv, columna_id, ids_a_borrar)"
   ]
  }
 ],
 "metadata": {
  "kernelspec": {
   "display_name": "Python 3 (ipykernel)",
   "language": "python",
   "name": "python3"
  },
  "language_info": {
   "codemirror_mode": {
    "name": "ipython",
    "version": 3
   },
   "file_extension": ".py",
   "mimetype": "text/x-python",
   "name": "python",
   "nbconvert_exporter": "python",
   "pygments_lexer": "ipython3",
   "version": "3.9.13"
  }
 },
 "nbformat": 4,
 "nbformat_minor": 5
}
