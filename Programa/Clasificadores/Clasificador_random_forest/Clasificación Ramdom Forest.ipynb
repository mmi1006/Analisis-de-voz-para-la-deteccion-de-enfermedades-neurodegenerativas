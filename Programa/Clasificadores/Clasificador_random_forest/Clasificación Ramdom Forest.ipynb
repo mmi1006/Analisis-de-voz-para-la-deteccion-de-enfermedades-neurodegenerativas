{
 "cells": [
  {
   "cell_type": "markdown",
   "id": "df271181",
   "metadata": {},
   "source": [
    "# Clasificador Random Forest\n",
    "Este notebook tiene como función principal, entrenar los modelos de entreamiento con el algorítmo Random Forest, evaluar el rendimiento de cada uno y almacenarlos en archivos con formato \".joblib\".\n",
    "\n",
    "Autor: Maider Murugarren Ilundain"
   ]
  },
  {
   "cell_type": "code",
   "execution_count": 1,
   "id": "d5dbbc05",
   "metadata": {},
   "outputs": [],
   "source": [
    "# Importamos todas las librerías necesarias\n",
    "import os\n",
    "import joblib\n",
    "import time\n",
    "import csv\n",
    "import pandas as pd\n",
    "from sklearn.ensemble import RandomForestClassifier\n",
    "from sklearn.model_selection import cross_val_predict\n",
    "from sklearn.model_selection import train_test_split\n",
    "from sklearn.metrics import accuracy_score, precision_score, recall_score, f1_score, roc_curve, confusion_matrix"
   ]
  },
  {
   "cell_type": "code",
   "execution_count": 2,
   "id": "da4d404d",
   "metadata": {},
   "outputs": [],
   "source": [
    "# Función para entrenar los modelos con los conjuntos de datos\n",
    "def entrenar_random_forest(df):\n",
    "    \"\"\"\n",
    "    Entrena diversos modelos de clasificación con el algorítmo Random Forest,\n",
    "    usando los conjuntos de características de los audios.\n",
    "\n",
    "    Parámetros:\n",
    "    - Dataframe: El conjunto de características de cada tipo de audio.\n",
    "\n",
    "    Retorna:\n",
    "    - Modelo entrenado.\n",
    "    \"\"\"\n",
    "    # Divide los datos en características (X) y etiquetas (y)\n",
    "    # Además de borrar las caracteristicas sin relevancia para este entrenamiento\n",
    "    X = df.drop(['Estadio', 'ID', 'archivo'], axis=1)\n",
    "    y = df['Estadio']\n",
    "\n",
    "    # Rellenar los valores vacios con la media del resto de valores\n",
    "    X_filled = X.fillna(X.mean())\n",
    "\n",
    "    # Crear dos nuevas columnas desde la columna género para que sean integros\n",
    "    X_encoded = pd.get_dummies(X_filled, columns=['Genero'])\n",
    "\n",
    "    # Crear una instancia del modelo RandomForestClassifier\n",
    "    random_forest = RandomForestClassifier(random_state=42, n_estimators = 50, max_depth = None, min_samples_split = 4, min_samples_leaf = 2)\n",
    "\n",
    "    # Hacemos la validación cruzada para conseguir las predicciones\n",
    "    y_pred = cross_val_predict(random_forest, X_encoded, y, cv=5)\n",
    "    \n",
    "    # Entrenamiento del modelo\n",
    "    random_forest.fit(X_encoded, y)\n",
    "    \n",
    "    # Devolver modelo y los conjuntos de prueba\n",
    "    return random_forest, X_encoded, y, y_pred\n",
    "\n",
    "# Función para evaluar el rendimiento de los modelos\n",
    "def evaluar_modelo(model, X, y, y_pred, nombre_modelo):\n",
    "    \"\"\"\n",
    "    Obtiene diversas métricas de evaluación de los modelos entrenados, almacenandolos en un archivo con formato \".csv\".\n",
    "\n",
    "    Parámetros:\n",
    "    - model: Modelo de árbol de decisiones entrenado.\n",
    "    - X: conjunto de características del modelo.\n",
    "    - y: característica con las etiquetas\n",
    "    - y_pred: validación cruzada del modelo.\n",
    "    - nombre_modelo: nombre que queramos poner al modelo entrenado.\n",
    "    \"\"\"\n",
    "    \n",
    "    # Creamos un diccionario para acumular los valores de las métricas\n",
    "    metricas_eval_dict = {}\n",
    "    \n",
    "    y_scores = cross_val_predict(model, X, y, cv=5, method='predict_proba')[:, 1]\n",
    "\n",
    "    # Calcular diversas métricas para evaluar el modelo\n",
    "    accuracy = accuracy_score(y, y_pred)\n",
    "    precision = precision_score(y, y_pred)\n",
    "    recall = recall_score(y, y_pred)\n",
    "    f1 = f1_score(y, y_pred)\n",
    "\n",
    "    # Calcular los valores de la matriz de confusion\n",
    "    tn, fp, fn, tp = confusion_matrix(y, y_pred).ravel()\n",
    "    \n",
    "    # Calcular los valores de la curva ROC\n",
    "    fpr, tpr, thresholds = roc_curve(y, y_scores)\n",
    "\n",
    "    # Almacenarlos todos en el diccionario\n",
    "    metricas_eval_dict = {\"Exactitud\": accuracy,\n",
    "                    \"Precisión\":precision,\n",
    "                    \"Sensibilidad\": recall,\n",
    "                    \"Puntaje de F1\": f1,\n",
    "                    \"TN\": tn,\n",
    "                    \"FP\": fp,\n",
    "                    \"FN\": fn,\n",
    "                    \"TP\": tp,\n",
    "                    \"FPR\":fpr[1],\n",
    "                    \"TPR\":tpr[1]}\n",
    "    \n",
    "    carpeta_csv = \"Clasificador_Random_Forest\"\n",
    "\n",
    "    # Crear un archivo csv donde almacenar los valores de las métricas para cada tipo de modelo\n",
    "    with open(carpeta_csv + \"_metricas.csv\", 'a', newline='') as archivo_csv:\n",
    "        writer = csv.writer(archivo_csv, delimiter=';')\n",
    "        \n",
    "        archivo_vacio = archivo_csv.tell() == 0\n",
    "\n",
    "        if archivo_vacio:\n",
    "            # Escribir las métricas como encabezados de columnas\n",
    "            writer.writerow(['modelo'] + list(metricas_eval_dict.keys()))\n",
    "\n",
    "        # Escribir los valores de las métricas por fila\n",
    "        writer.writerow([nombre_modelo] + list(metricas_eval_dict.values()))\n",
    "        print(\"Metricas correctamente guardadas.\")\n",
    "\n",
    "# Función para guardar los modelos entrenados en formato \".joblib\". \n",
    "def guardar_modelo(modelo, nombre_archivo):\n",
    "    \"\"\"\n",
    "    Recupera los modelos entrenados en la función anterior y los almacena en la carpeta indicada con el nombre indicado. \n",
    "    Imprimiendo el mensaje del correcto almacenamiento y el nombre con el que se ha hecho.\n",
    "\n",
    "    Parámetros:\n",
    "    - model: Modelo de árbol de decisiones entrenado.\n",
    "    - nombre_archivo: nombre que queramos poner al archivo almacenado.\n",
    "    \"\"\"\n",
    "    joblib.dump(modelo, nombre_archivo)\n",
    "    print(f\"El modelo ha sido guardado correctamente en el archivo {nombre_archivo}.\")\n"
   ]
  },
  {
   "cell_type": "code",
   "execution_count": 4,
   "id": "914f6a2c",
   "metadata": {},
   "outputs": [],
   "source": [
    "# Función para llamar a todas las funciones anteriores conjuntamente\n",
    "def entrenar_y_evaluar_modelo(ruta_csv, nombre_modelo):\n",
    "     \"\"\"\n",
    "    Esta función carga el conjunto de datos como dataframe y llama conjuntamente a todas las funciones anteriores.\n",
    "    Parámetros:\n",
    "    - ruta_csv: carpeta donde se encuentran los datos a utilizar.\n",
    "    - nombre_modelo: nombre que queramos poner al modelo entrenado.\n",
    "    \"\"\"\n",
    "    # Cargar los datos del CSV\n",
    "    df = pd.read_csv(ruta_csv, delimiter=';')\n",
    "\n",
    "    # Entrenar el modelo \n",
    "    modelo, X, y, y_pred = entrenar_random_forest(df)\n",
    "\n",
    "    # Evaluar el modelo\n",
    "    evaluar_modelo(modelo, X, y, y_pred, nombre_modelo)\n",
    "\n",
    "    # Guardar el modelo\n",
    "    guardar_modelo(modelo, nombre_modelo + '.joblib')"
   ]
  },
  {
   "cell_type": "code",
   "execution_count": 5,
   "id": "a538a89b",
   "metadata": {},
   "outputs": [
    {
     "name": "stderr",
     "output_type": "stream",
     "text": [
      "C:\\Users\\Usuario\\AppData\\Local\\Temp\\ipykernel_18392\\1127868383.py:7: FutureWarning: Dropping of nuisance columns in DataFrame reductions (with 'numeric_only=None') is deprecated; in a future version this will raise TypeError.  Select only valid columns before calling the reduction.\n",
      "  X_filled = X.fillna(X.mean())\n"
     ]
    },
    {
     "name": "stdout",
     "output_type": "stream",
     "text": [
      "Metricas correctamente guardadas.\n",
      "El modelo ha sido guardado correctamente en el archivo modelo_entrenado_RandomForest_tipo1_spicy.joblib.\n"
     ]
    },
    {
     "name": "stderr",
     "output_type": "stream",
     "text": [
      "C:\\Users\\Usuario\\AppData\\Local\\Temp\\ipykernel_18392\\1127868383.py:7: FutureWarning: Dropping of nuisance columns in DataFrame reductions (with 'numeric_only=None') is deprecated; in a future version this will raise TypeError.  Select only valid columns before calling the reduction.\n",
      "  X_filled = X.fillna(X.mean())\n"
     ]
    },
    {
     "name": "stdout",
     "output_type": "stream",
     "text": [
      "Metricas correctamente guardadas.\n",
      "El modelo ha sido guardado correctamente en el archivo modelo_entrenado_RandomForest_tipo2_spicy.joblib.\n"
     ]
    },
    {
     "name": "stderr",
     "output_type": "stream",
     "text": [
      "C:\\Users\\Usuario\\AppData\\Local\\Temp\\ipykernel_18392\\1127868383.py:7: FutureWarning: Dropping of nuisance columns in DataFrame reductions (with 'numeric_only=None') is deprecated; in a future version this will raise TypeError.  Select only valid columns before calling the reduction.\n",
      "  X_filled = X.fillna(X.mean())\n"
     ]
    },
    {
     "name": "stdout",
     "output_type": "stream",
     "text": [
      "Metricas correctamente guardadas.\n",
      "El modelo ha sido guardado correctamente en el archivo modelo_entrenado_RandomForest_tipo3_spicy.joblib.\n"
     ]
    },
    {
     "name": "stderr",
     "output_type": "stream",
     "text": [
      "C:\\Users\\Usuario\\AppData\\Local\\Temp\\ipykernel_18392\\1127868383.py:7: FutureWarning: Dropping of nuisance columns in DataFrame reductions (with 'numeric_only=None') is deprecated; in a future version this will raise TypeError.  Select only valid columns before calling the reduction.\n",
      "  X_filled = X.fillna(X.mean())\n"
     ]
    },
    {
     "name": "stdout",
     "output_type": "stream",
     "text": [
      "Metricas correctamente guardadas.\n",
      "El modelo ha sido guardado correctamente en el archivo modelo_entrenado_RandomForest_tipo4_spicy.joblib.\n"
     ]
    },
    {
     "name": "stderr",
     "output_type": "stream",
     "text": [
      "C:\\Users\\Usuario\\AppData\\Local\\Temp\\ipykernel_18392\\1127868383.py:7: FutureWarning: Dropping of nuisance columns in DataFrame reductions (with 'numeric_only=None') is deprecated; in a future version this will raise TypeError.  Select only valid columns before calling the reduction.\n",
      "  X_filled = X.fillna(X.mean())\n"
     ]
    },
    {
     "name": "stdout",
     "output_type": "stream",
     "text": [
      "Metricas correctamente guardadas.\n",
      "El modelo ha sido guardado correctamente en el archivo modelo_entrenado_RandomForest_tipo5_spicy.joblib.\n"
     ]
    },
    {
     "name": "stderr",
     "output_type": "stream",
     "text": [
      "C:\\Users\\Usuario\\AppData\\Local\\Temp\\ipykernel_18392\\1127868383.py:7: FutureWarning: Dropping of nuisance columns in DataFrame reductions (with 'numeric_only=None') is deprecated; in a future version this will raise TypeError.  Select only valid columns before calling the reduction.\n",
      "  X_filled = X.fillna(X.mean())\n"
     ]
    },
    {
     "name": "stdout",
     "output_type": "stream",
     "text": [
      "Metricas correctamente guardadas.\n",
      "El modelo ha sido guardado correctamente en el archivo modelo_entrenado_RandomForest_tipo6_spicy.joblib.\n"
     ]
    }
   ],
   "source": [
    "# Entrenamiento de con todos los cvs con caracteristicas Spicy, para todos los tipos de audios\n",
    "\n",
    "# La carpeta donde se encuentran los datos a utilizar\n",
    "carpeta = \"union_carac_Spicy/\"\n",
    "\n",
    "# Recorremos cada conjunto de datos\n",
    "archivos_csv = [archivo for archivo in os.listdir(carpeta) if archivo.endswith('.csv')]\n",
    "\n",
    "# Obtenemos el nombre del modelo de manera automática y llamamos al resto de funciones con ella\n",
    "for archivo_csv in archivos_csv:\n",
    "    ruta_csv = os.path.join(carpeta, archivo_csv)\n",
    "    tipo = archivo_csv[-5]\n",
    "    nombre_modelo = 'modelo_entrenado_RandomForest_tipo' + tipo + '_spicy'\n",
    "    entrenar_y_evaluar_modelo(ruta_csv, nombre_modelo)\n"
   ]
  },
  {
   "cell_type": "code",
   "execution_count": 6,
   "id": "f854aff2",
   "metadata": {},
   "outputs": [
    {
     "name": "stderr",
     "output_type": "stream",
     "text": [
      "C:\\Users\\Usuario\\AppData\\Local\\Temp\\ipykernel_18392\\1127868383.py:7: FutureWarning: Dropping of nuisance columns in DataFrame reductions (with 'numeric_only=None') is deprecated; in a future version this will raise TypeError.  Select only valid columns before calling the reduction.\n",
      "  X_filled = X.fillna(X.mean())\n"
     ]
    },
    {
     "name": "stdout",
     "output_type": "stream",
     "text": [
      "Metricas correctamente guardadas.\n",
      "El modelo ha sido guardado correctamente en el archivo modelo_entrenado_RandomForest_tipo1_Pythorch.joblib.\n"
     ]
    },
    {
     "name": "stderr",
     "output_type": "stream",
     "text": [
      "C:\\Users\\Usuario\\AppData\\Local\\Temp\\ipykernel_18392\\1127868383.py:7: FutureWarning: Dropping of nuisance columns in DataFrame reductions (with 'numeric_only=None') is deprecated; in a future version this will raise TypeError.  Select only valid columns before calling the reduction.\n",
      "  X_filled = X.fillna(X.mean())\n"
     ]
    },
    {
     "name": "stdout",
     "output_type": "stream",
     "text": [
      "Metricas correctamente guardadas.\n",
      "El modelo ha sido guardado correctamente en el archivo modelo_entrenado_RandomForest_tipo2_Pythorch.joblib.\n"
     ]
    },
    {
     "name": "stderr",
     "output_type": "stream",
     "text": [
      "C:\\Users\\Usuario\\AppData\\Local\\Temp\\ipykernel_18392\\1127868383.py:7: FutureWarning: Dropping of nuisance columns in DataFrame reductions (with 'numeric_only=None') is deprecated; in a future version this will raise TypeError.  Select only valid columns before calling the reduction.\n",
      "  X_filled = X.fillna(X.mean())\n"
     ]
    },
    {
     "name": "stdout",
     "output_type": "stream",
     "text": [
      "Metricas correctamente guardadas.\n",
      "El modelo ha sido guardado correctamente en el archivo modelo_entrenado_RandomForest_tipo3_Pythorch.joblib.\n"
     ]
    },
    {
     "name": "stderr",
     "output_type": "stream",
     "text": [
      "C:\\Users\\Usuario\\AppData\\Local\\Temp\\ipykernel_18392\\1127868383.py:7: FutureWarning: Dropping of nuisance columns in DataFrame reductions (with 'numeric_only=None') is deprecated; in a future version this will raise TypeError.  Select only valid columns before calling the reduction.\n",
      "  X_filled = X.fillna(X.mean())\n"
     ]
    },
    {
     "name": "stdout",
     "output_type": "stream",
     "text": [
      "Metricas correctamente guardadas.\n",
      "El modelo ha sido guardado correctamente en el archivo modelo_entrenado_RandomForest_tipo4_Pythorch.joblib.\n"
     ]
    },
    {
     "name": "stderr",
     "output_type": "stream",
     "text": [
      "C:\\Users\\Usuario\\AppData\\Local\\Temp\\ipykernel_18392\\1127868383.py:7: FutureWarning: Dropping of nuisance columns in DataFrame reductions (with 'numeric_only=None') is deprecated; in a future version this will raise TypeError.  Select only valid columns before calling the reduction.\n",
      "  X_filled = X.fillna(X.mean())\n"
     ]
    },
    {
     "name": "stdout",
     "output_type": "stream",
     "text": [
      "Metricas correctamente guardadas.\n",
      "El modelo ha sido guardado correctamente en el archivo modelo_entrenado_RandomForest_tipo5_Pythorch.joblib.\n"
     ]
    },
    {
     "name": "stderr",
     "output_type": "stream",
     "text": [
      "C:\\Users\\Usuario\\AppData\\Local\\Temp\\ipykernel_18392\\1127868383.py:7: FutureWarning: Dropping of nuisance columns in DataFrame reductions (with 'numeric_only=None') is deprecated; in a future version this will raise TypeError.  Select only valid columns before calling the reduction.\n",
      "  X_filled = X.fillna(X.mean())\n"
     ]
    },
    {
     "name": "stdout",
     "output_type": "stream",
     "text": [
      "Metricas correctamente guardadas.\n",
      "El modelo ha sido guardado correctamente en el archivo modelo_entrenado_RandomForest_tipo6_Pythorch.joblib.\n"
     ]
    }
   ],
   "source": [
    "# Entrenamiento de con todos los cvs con caracteristicas Pythorch, para todos los tipos de audios\n",
    "\n",
    "# La carpeta donde se encuentran los datos a utilizar\n",
    "carpeta = \"unio_carac_Pythorch/\"\n",
    "\n",
    "# Recorremos cada conjunto de datos\n",
    "archivos_csv = [archivo for archivo in os.listdir(carpeta) if archivo.endswith('.csv')]\n",
    "\n",
    "# Obtenemos el nombre del modelo de manera automática y llamamos al resto de funciones con ella\n",
    "for archivo_csv in archivos_csv:\n",
    "    ruta_csv = os.path.join(carpeta, archivo_csv)\n",
    "    tipo = archivo_csv[-5]\n",
    "    nombre_modelo = 'modelo_entrenado_RandomForest_tipo' + tipo + '_Pythorch'\n",
    "    entrenar_y_evaluar_modelo(ruta_csv, nombre_modelo)\n"
   ]
  },
  {
   "cell_type": "code",
   "execution_count": null,
   "id": "a6a180d3",
   "metadata": {},
   "outputs": [],
   "source": []
  },
  {
   "cell_type": "code",
   "execution_count": null,
   "id": "a74f8b6c",
   "metadata": {},
   "outputs": [],
   "source": []
  }
 ],
 "metadata": {
  "kernelspec": {
   "display_name": "Python 3 (ipykernel)",
   "language": "python",
   "name": "python3"
  },
  "language_info": {
   "codemirror_mode": {
    "name": "ipython",
    "version": 3
   },
   "file_extension": ".py",
   "mimetype": "text/x-python",
   "name": "python",
   "nbconvert_exporter": "python",
   "pygments_lexer": "ipython3",
   "version": "3.9.13"
  }
 },
 "nbformat": 4,
 "nbformat_minor": 5
}
